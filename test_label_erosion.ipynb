{
 "cells": [
  {
   "cell_type": "code",
   "execution_count": null,
   "metadata": {},
   "outputs": [],
   "source": [
    "from skimage import io\n",
    "import matplotlib.pyplot as plt\n",
    "from matplotlib.patches import Rectangle\n",
    "import numpy as np\n",
    "from scipy.ndimage.morphology import distance_transform_edt\n",
    "import time\n",
    "from utils import (\n",
    "    dist_trans_labels,\n",
    "    get_glasbey_cmap,\n",
    "    erode_labels,\n",
    "    erode_labels2,\n",
    "    erode_labels3,\n",
    "    erode_labels4,\n",
    "    erode_labels4_get_edges,\n",
    ")"
   ]
  },
  {
   "cell_type": "code",
   "execution_count": null,
   "metadata": {},
   "outputs": [],
   "source": [
    "image = io.imread(r\"labels/e72_33_0021.tif\")\n",
    "crop = image[1250:1500, 1000:1300]\n",
    "print(crop.shape)\n",
    "gb_cmap = get_glasbey_cmap()"
   ]
  },
  {
   "cell_type": "code",
   "execution_count": null,
   "metadata": {},
   "outputs": [],
   "source": [
    "# Create a Rectangle patch\n",
    "rect = Rectangle((1000, 1250),300,250,linewidth=1,edgecolor='r',facecolor='none')\n",
    "\n",
    "fig, axs = plt.subplots(1,2)\n",
    "axs[0].set_title('Labels image')\n",
    "axs[0].imshow(image, cmap=gb_cmap, interpolation='nearest')\n",
    "axs[0].add_patch(rect)\n",
    "axs[1].set_title('Labels crop')\n",
    "axs[1].imshow(crop)\n",
    "plt.tight_layout\n",
    "plt.show"
   ]
  },
  {
   "cell_type": "code",
   "execution_count": null,
   "metadata": {},
   "outputs": [],
   "source": [
    "a=np.zeros((1,5))\n",
    "a[0,0] = 100\n",
    "a"
   ]
  },
  {
   "cell_type": "code",
   "execution_count": null,
   "metadata": {},
   "outputs": [],
   "source": [
    "methods = {\n",
    "    \"S1\": [None, dist_trans_labels],\n",
    "    \"S2\": [erode_labels, distance_transform_edt],\n",
    "    \"S3\": [erode_labels2, distance_transform_edt],\n",
    "    \"S4\": [erode_labels3, distance_transform_edt],\n",
    "    \"S5\": [erode_labels4, distance_transform_edt],\n",
    "}"
   ]
  },
  {
   "cell_type": "code",
   "execution_count": null,
   "metadata": {},
   "outputs": [],
   "source": [
    "erode_timing = []\n",
    "dist_trans_timing = []\n",
    "\n",
    "for key,value in methods.items():\n",
    "    erode_method = value[0]\n",
    "    dist_trans_method = value[1]\n",
    "    if erode_method != None:\n",
    "        time_e0 = time.time()\n",
    "        eroded = erode_method(image)\n",
    "        time_e1 = time.time()\n",
    "    else:\n",
    "        time_e0, time_e1 = 0, 0\n",
    "        eroded = image.copy()\n",
    "    time_d0 = time.time()\n",
    "    dist_map = dist_trans_method(eroded)\n",
    "    time_d1 = time.time()\n",
    "    erode_timing.append(time_e1 - time_e0)\n",
    "    dist_trans_timing.append(time_d1 - time_d0)\n",
    "    print(f\"{key}: erosion - {time_e1 - time_e0:.4f} seconds, dist trans - {time_d1 - time_d0:.4f} seconds\")"
   ]
  },
  {
   "cell_type": "code",
   "execution_count": null,
   "metadata": {},
   "outputs": [],
   "source": [
    "timing = {\n",
    "    \"Erode\": erode_timing,\n",
    "    \"Dist_Trans\": dist_trans_timing,\n",
    "}"
   ]
  },
  {
   "cell_type": "code",
   "execution_count": null,
   "metadata": {},
   "outputs": [],
   "source": [
    "fig, ax = plt.subplots()\n",
    "bottom = np.zeros(5)\n",
    "width = 0.5\n",
    "\n",
    "for boolean, t in timing.items():\n",
    "    p = ax.bar(list(methods.keys()), t, width, label=boolean, bottom=bottom)\n",
    "    bottom += t\n",
    "\n",
    "ax.set_title(\"Timing\")\n",
    "ax.set_ylabel(\"seconds\")\n",
    "ax.set_xlabel(\"methods\")\n",
    "ax.legend(loc=\"upper right\")\n",
    "\n",
    "plt.show()"
   ]
  },
  {
   "cell_type": "code",
   "execution_count": null,
   "metadata": {},
   "outputs": [],
   "source": [
    "crop_erosion_results = []\n",
    "crop_erosion_method = []\n",
    "\n",
    "for key,value in methods.items():\n",
    "    erode_method = value[0]\n",
    "    if erode_method != None:\n",
    "        crop_erosion_results.append(erode_method(crop))\n",
    "        crop_erosion_method.append(key)"
   ]
  },
  {
   "cell_type": "code",
   "execution_count": null,
   "metadata": {},
   "outputs": [],
   "source": [
    "nrows = ncols = int(len(crop_erosion_results)/2)\n",
    "fig, axs = plt.subplots(nrows, ncols)\n",
    "loop=0\n",
    "for r in range(nrows):\n",
    "    for c in range(ncols):\n",
    "        axs[r,c].set_title(crop_erosion_method[loop])\n",
    "        axs[r,c].imshow(crop_erosion_results[loop], cmap=gb_cmap, interpolation='nearest')\n",
    "        loop+=1\n",
    "plt.tight_layout\n",
    "plt.show"
   ]
  },
  {
   "cell_type": "code",
   "execution_count": null,
   "metadata": {},
   "outputs": [],
   "source": [
    "res1 = erode_labels(crop)\n",
    "print(res1.shape)\n",
    "plt.imshow(res1, cmap=gb_cmap, interpolation='nearest')"
   ]
  },
  {
   "cell_type": "code",
   "execution_count": null,
   "metadata": {},
   "outputs": [],
   "source": [
    "res1 = erode_labels2(crop)\n",
    "print(res1.shape)\n",
    "plt.imshow(res1, cmap=gb_cmap, interpolation='nearest')"
   ]
  },
  {
   "cell_type": "code",
   "execution_count": null,
   "metadata": {},
   "outputs": [],
   "source": [
    "res1 = erode_labels3(crop, 1)\n",
    "print(res1.shape)\n",
    "plt.imshow(res1, cmap=gb_cmap, interpolation='nearest')"
   ]
  },
  {
   "cell_type": "code",
   "execution_count": null,
   "metadata": {},
   "outputs": [],
   "source": [
    "from skimage.morphology import label\n",
    "image = label(image)\n",
    "res1, edges = erode_labels4_get_edges(image)\n",
    "res1_binary = res1 > 0\n",
    "res1_relabel = label(res1_binary)\n",
    "print(res1.shape)\n",
    "\n",
    "fig, axs = plt.subplots(2,3, figsize=(15, 10))\n",
    "axs[0,0].imshow(image, cmap=gb_cmap, interpolation='nearest')\n",
    "axs[0,1].imshow(res1, cmap=gb_cmap, interpolation='nearest')\n",
    "axs[0,2].imshow(res1_binary)\n",
    "axs[1,0].imshow(edges)\n",
    "axs[1,1].imshow(res1_relabel, cmap=gb_cmap, interpolation='nearest')\n",
    "plt.show\n",
    "#plt.imshow(res1, cmap=gb_cmap, interpolation='nearest')"
   ]
  },
  {
   "cell_type": "code",
   "execution_count": null,
   "metadata": {},
   "outputs": [],
   "source": [
    "type(image)"
   ]
  },
  {
   "cell_type": "code",
   "execution_count": null,
   "metadata": {},
   "outputs": [],
   "source": [
    "res2 = erode_labels(image)\n",
    "print(res2.shape)\n",
    "plt.imshow(res2, cmap=gb_cmap, interpolation='nearest')"
   ]
  },
  {
   "cell_type": "code",
   "execution_count": null,
   "metadata": {},
   "outputs": [],
   "source": [
    "res2 = erode_labels2(image)\n",
    "print(res2.shape)\n",
    "plt.imshow(res2, cmap=gb_cmap, interpolation='nearest')"
   ]
  },
  {
   "cell_type": "code",
   "execution_count": null,
   "metadata": {},
   "outputs": [],
   "source": [
    "res2 = erode_labels3(image, 1)\n",
    "print(res2.shape)\n",
    "plt.imshow(res2, cmap=gb_cmap, interpolation='nearest')"
   ]
  },
  {
   "cell_type": "code",
   "execution_count": null,
   "metadata": {},
   "outputs": [],
   "source": [
    "res2 = erode_labels4(image)\n",
    "print(res2.shape)\n",
    "plt.imshow(res2, cmap=gb_cmap, interpolation='nearest')"
   ]
  },
  {
   "cell_type": "code",
   "execution_count": null,
   "metadata": {},
   "outputs": [],
   "source": [
    "binary = res2 > 0\n",
    "plt.imshow(binary)"
   ]
  },
  {
   "cell_type": "code",
   "execution_count": null,
   "metadata": {},
   "outputs": [],
   "source": [
    "dt = distance_transform_edt(binary)\n",
    "plt.imshow(dt)"
   ]
  },
  {
   "cell_type": "code",
   "execution_count": null,
   "metadata": {},
   "outputs": [],
   "source": [
    "dt_crop = dt[1250:1500, 1000:1300]\n",
    "plt.imshow(dt_crop)"
   ]
  },
  {
   "cell_type": "code",
   "execution_count": null,
   "metadata": {},
   "outputs": [],
   "source": [
    "dtl = dist_trans_labels(image)"
   ]
  },
  {
   "cell_type": "code",
   "execution_count": null,
   "metadata": {},
   "outputs": [],
   "source": [
    "plt.imshow(dtl)"
   ]
  },
  {
   "cell_type": "code",
   "execution_count": null,
   "metadata": {},
   "outputs": [],
   "source": []
  }
 ],
 "metadata": {
  "kernelspec": {
   "display_name": "pytorchenv",
   "language": "python",
   "name": "python3"
  },
  "language_info": {
   "codemirror_mode": {
    "name": "ipython",
    "version": 3
   },
   "file_extension": ".py",
   "mimetype": "text/x-python",
   "name": "python",
   "nbconvert_exporter": "python",
   "pygments_lexer": "ipython3",
   "version": "3.8.16"
  },
  "orig_nbformat": 4
 },
 "nbformat": 4,
 "nbformat_minor": 2
}
